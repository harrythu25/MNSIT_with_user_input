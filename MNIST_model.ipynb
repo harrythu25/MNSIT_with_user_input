{
  "nbformat": 4,
  "nbformat_minor": 0,
  "metadata": {
    "colab": {
      "name": "MNIST_model.ipynb",
      "provenance": [],
      "collapsed_sections": [],
      "authorship_tag": "ABX9TyPg0WCxJR23lR2VRJL2AB+0",
      "include_colab_link": true
    },
    "kernelspec": {
      "name": "python3",
      "display_name": "Python 3"
    }
  },
  "cells": [
    {
      "cell_type": "markdown",
      "metadata": {
        "id": "view-in-github",
        "colab_type": "text"
      },
      "source": [
        "<a href=\"https://colab.research.google.com/github/harrythu25/MNSIT_with_user_input/blob/master/MNIST_model.ipynb\" target=\"_parent\"><img src=\"https://colab.research.google.com/assets/colab-badge.svg\" alt=\"Open In Colab\"/></a>"
      ]
    },
    {
      "cell_type": "markdown",
      "metadata": {
        "id": "YB31OgKrh7Zx"
      },
      "source": [
        "# Import the relevant packages\n"
      ]
    },
    {
      "cell_type": "code",
      "metadata": {
        "id": "D4y_GBXJe2xR"
      },
      "source": [
        "import tensorflow as tf\n",
        "import numpy as np\n",
        "import matplotlib.pyplot as plt\n",
        "import tensorflow_datasets as tfds"
      ],
      "execution_count": null,
      "outputs": []
    },
    {
      "cell_type": "markdown",
      "metadata": {
        "id": "HcDMLlKLiw_w"
      },
      "source": [
        "# Data"
      ]
    },
    {
      "cell_type": "code",
      "metadata": {
        "id": "LW7eNmxtg22V"
      },
      "source": [
        "mnist_dataset, mnist_info = tfds.load(name='mnist', with_info=True, as_supervised=True, try_gcs=True)"
      ],
      "execution_count": null,
      "outputs": []
    },
    {
      "cell_type": "code",
      "metadata": {
        "id": "vzkx6WEgg20J"
      },
      "source": [
        "mnist_train, mnist_test = mnist_dataset['train'], mnist_dataset['test']"
      ],
      "execution_count": null,
      "outputs": []
    },
    {
      "cell_type": "markdown",
      "metadata": {
        "id": "vjyhoSWZ_hFP"
      },
      "source": [
        "# Visualization "
      ]
    },
    {
      "cell_type": "code",
      "metadata": {
        "colab": {
          "base_uri": "https://localhost:8080/",
          "height": 316
        },
        "id": "L7Sg_QiF_aW4",
        "outputId": "49d3d4a4-f128-40f3-8cb7-3c8823390547"
      },
      "source": [
        "mnist = tf.keras.datasets.mnist\n",
        "(x_train, y_train), (x_test, y_test) = mnist.load_data()\n",
        "plt.imshow(x_train[2], cmap='gray_r')"
      ],
      "execution_count": null,
      "outputs": [
        {
          "output_type": "stream",
          "text": [
            "Downloading data from https://storage.googleapis.com/tensorflow/tf-keras-datasets/mnist.npz\n",
            "11493376/11490434 [==============================] - 0s 0us/step\n"
          ],
          "name": "stdout"
        },
        {
          "output_type": "execute_result",
          "data": {
            "text/plain": [
              "<matplotlib.image.AxesImage at 0x7f932b10fa50>"
            ]
          },
          "metadata": {
            "tags": []
          },
          "execution_count": 5
        },
        {
          "output_type": "display_data",
          "data": {
            "image/png": "[encoded data removed]",
            "text/plain": [
              "<Figure size 432x288 with 1 Axes>"
            ]
          },
          "metadata": {
            "tags": [],
            "needs_background": "light"
          }
        }
      ]
    },
    {
      "cell_type": "code",
      "metadata": {
        "colab": {
          "base_uri": "https://localhost:8080/"
        },
        "id": "AoJnV4hO_fiT",
        "outputId": "51f39acd-e65b-4596-cbd2-033e4c8aae19"
      },
      "source": [
        "x_train[2][5]"
      ],
      "execution_count": null,
      "outputs": [
        {
          "output_type": "execute_result",
          "data": {
            "text/plain": [
              "array([  0,   0,   0,   0,   0,   0,   0,   0,   0,   0,   0,   0,   0,\n",
              "         0,   0,   0,   0,   0,   0,   0,  67, 232,  39,   0,   0,   0,\n",
              "         0,   0], dtype=uint8)"
            ]
          },
          "metadata": {
            "tags": []
          },
          "execution_count": 6
        }
      ]
    },
    {
      "cell_type": "markdown",
      "metadata": {
        "id": "lqXpwFn2jliX"
      },
      "source": [
        "## Split between validation and training set"
      ]
    },
    {
      "cell_type": "code",
      "metadata": {
        "id": "pHTOaczCg2xt"
      },
      "source": [
        "#preparing the data sets before splitting\n",
        "#take input and transform\n",
        "def scale (image, label):\n",
        "  image = tf.cast (image, tf.float32) #make sure it's float\n",
        "  image /= 255. #values are between 0 and 255 based on the shades; divide everything by 255 so each input is between 0 and 1  \n",
        "  return image, label\n",
        "\n",
        "\n",
        "#scale the data\n",
        "scaled_train_and_validation_data = mnist_train.map(scale) #use .map function to transform train data\n",
        "test_data = mnist_test.map(scale) #use .map function to transform test data\n",
        "\n",
        "\n",
        "#shuffle data so batches wont affect model\n",
        "BUFFER_SIZE = 10000 \n",
        "\n",
        "shuffled_train_and_validation_data = scaled_train_and_validation_data.shuffle(BUFFER_SIZE)\n",
        "\n",
        "#Calculating sample sizes\n",
        "num_validation_samples = 0.1 * mnist_info.splits['train'].num_examples #0.1 because only want 10%\n",
        "num_validation_samples = tf.cast(num_validation_samples, tf.int64) #cast to integer\n",
        "\n",
        "num_test_samples = mnist_info.splits['test'].num_examples\n",
        "num_test_samples = tf.cast(num_test_samples, tf.int64) #cast to integer\n",
        "validation_data = shuffled_train_and_validation_data.take(num_validation_samples)\n",
        "train_data = shuffled_train_and_validation_data.skip(num_validation_samples)\n",
        "\n",
        "\n"
      ],
      "execution_count": null,
      "outputs": []
    },
    {
      "cell_type": "markdown",
      "metadata": {
        "id": "AD2tnnX2poJK"
      },
      "source": [
        "# Model"
      ]
    },
    {
      "cell_type": "markdown",
      "metadata": {
        "id": "ZUhUIh6YpsZp"
      },
      "source": [
        "## Outline the Model"
      ]
    },
    {
      "cell_type": "code",
      "metadata": {
        "id": "uUWtVVR3g2p9"
      },
      "source": [
        "#Because I am going to use the mini batch gradient descent, I need to set the batch size\n",
        "#setting batch size to prepare data for model\n",
        "\n",
        "BATCH_SIZE = 100\n",
        "\n",
        "train_data = train_data.batch(BATCH_SIZE) #override .batch method with my size\n",
        "validation_data = validation_data.batch(num_validation_samples)  #to take in the whole data set, \n",
        "test_data = test_data.batch(num_test_samples)\n",
        "\n",
        "validation_inputs, validation_targets = next(iter(validation_data))\n",
        "\n",
        "#hyper parameters\n",
        "input_size = 784 # 28px x 28px\n",
        "output_size = 10 #0-9\n",
        "hidden_layer_size = 100\n",
        "\n",
        "model = tf.keras.Sequential([\n",
        "                             tf.keras.layers.Flatten(input_shape = (28, 28, 1)),\n",
        "                             tf.keras.layers.Dense(hidden_layer_size, activation= 'relu'), # first hidden layer\n",
        "                             tf.keras.layers.Dense(hidden_layer_size, activation= 'relu'),  # second hidden layer\n",
        "                             tf.keras.layers.Dense(output_size, activation='softmax') #output layer softmax to transform into probability since this is a classifier model\n",
        "                            ])"
      ],
      "execution_count": null,
      "outputs": []
    },
    {
      "cell_type": "markdown",
      "metadata": {
        "id": "r9tR9wBJsCMZ"
      },
      "source": [
        "## Choose the optimizer and the loss function"
      ]
    },
    {
      "cell_type": "code",
      "metadata": {
        "id": "GoInY-Adg2i-"
      },
      "source": [
        "model.compile(optimizer='adam', loss='sparse_categorical_crossentropy', metrics= ['accuracy'])\n",
        "\n",
        "#this aplies one hot encoding which I did not do\n",
        "#output and target layer nees to have same shape of one hot encoded format\n"
      ],
      "execution_count": null,
      "outputs": []
    },
    {
      "cell_type": "markdown",
      "metadata": {
        "id": "1b_pDdh_sziH"
      },
      "source": [
        "## Training"
      ]
    },
    {
      "cell_type": "code",
      "metadata": {
        "colab": {
          "base_uri": "https://localhost:8080/"
        },
        "id": "nOriFd3ZsyXc",
        "outputId": "363e3380-787c-457c-aaf3-58ddc7704dc2"
      },
      "source": [
        "NUM_EPOCHS =5\n",
        "\n",
        "training_results= model.fit(train_data, epochs=NUM_EPOCHS, validation_data=(validation_inputs, validation_targets), verbose =2 )"
      ],
      "execution_count": null,
      "outputs": [
        {
          "output_type": "stream",
          "text": [
            "Epoch 1/5\n",
            "540/540 - 5s - loss: 0.3423 - accuracy: 0.9037 - val_loss: 0.1643 - val_accuracy: 0.9522\n",
            "Epoch 2/5\n",
            "540/540 - 4s - loss: 0.1425 - accuracy: 0.9586 - val_loss: 0.1133 - val_accuracy: 0.9658\n",
            "Epoch 3/5\n",
            "540/540 - 4s - loss: 0.1012 - accuracy: 0.9694 - val_loss: 0.0868 - val_accuracy: 0.9722\n",
            "Epoch 4/5\n",
            "540/540 - 4s - loss: 0.0760 - accuracy: 0.9762 - val_loss: 0.0690 - val_accuracy: 0.9813\n",
            "Epoch 5/5\n",
            "540/540 - 4s - loss: 0.0620 - accuracy: 0.9811 - val_loss: 0.0671 - val_accuracy: 0.9803\n"
          ],
          "name": "stdout"
        }
      ]
    },
    {
      "cell_type": "markdown",
      "metadata": {
        "id": "dLefG6tFu-3u"
      },
      "source": [
        "# Test the model"
      ]
    },
    {
      "cell_type": "code",
      "metadata": {
        "id": "8HH-qK95tkVr",
        "colab": {
          "base_uri": "https://localhost:8080/"
        },
        "outputId": "a72f733c-0178-4cd3-a01f-12cd0d6a7b4b"
      },
      "source": [
        "test_loss, test_accuracy = model.evaluate(test_data)"
      ],
      "execution_count": null,
      "outputs": [
        {
          "output_type": "stream",
          "text": [
            "1/1 [==============================] - 0s 417ms/step - loss: 0.0853 - accuracy: 0.9746\n"
          ],
          "name": "stdout"
        }
      ]
    },
    {
      "cell_type": "code",
      "metadata": {
        "colab": {
          "base_uri": "https://localhost:8080/"
        },
        "id": "4O2AosXNvpgN",
        "outputId": "dba065ab-9523-4d28-9321-bfa9934e2f8e"
      },
      "source": [
        "print('Test loss: {0: .2}. Test accuracy: {1: .2f}%'.format(test_loss, test_accuracy*100.))"
      ],
      "execution_count": null,
      "outputs": [
        {
          "output_type": "stream",
          "text": [
            "Test loss:  0.085. Test accuracy:  97.46%\n"
          ],
          "name": "stdout"
        }
      ]
    },
    {
      "cell_type": "markdown",
      "metadata": {
        "id": "NagCA4xO0kfy"
      },
      "source": [
        "## Implementation of Model \n"
      ]
    },
    {
      "cell_type": "markdown",
      "metadata": {
        "id": "RQK_f7GJoDHq"
      },
      "source": [
        "I used pygame and a 28x 28 grid to allow the user to draw their number and implemented this model to predict it. Pygame does not work with online notebooks so go to my github repo for the full project\n",
        "\n",
        "\n",
        "https://github.com/harrythu25/MNSIT_with_user_input"
      ]
    },
    {
      "cell_type": "markdown",
      "metadata": {
        "id": "CIE17lun8zpn"
      },
      "source": [
        "# Visualization"
      ]
    },
    {
      "cell_type": "code",
      "metadata": {
        "colab": {
          "base_uri": "https://localhost:8080/"
        },
        "id": "CDk_E8y181Bd",
        "outputId": "ea6104ed-dd5f-4d45-fb79-433a3b39499d"
      },
      "source": [
        "training_results.history.keys()"
      ],
      "execution_count": null,
      "outputs": [
        {
          "output_type": "execute_result",
          "data": {
            "text/plain": [
              "dict_keys(['loss', 'accuracy', 'val_loss', 'val_accuracy'])"
            ]
          },
          "metadata": {
            "tags": []
          },
          "execution_count": 14
        }
      ]
    },
    {
      "cell_type": "code",
      "metadata": {
        "colab": {
          "base_uri": "https://localhost:8080/",
          "height": 279
        },
        "id": "KwPb6ZAv81VB",
        "outputId": "c58ef089-ba4c-46f6-bdbb-88453a666ce7"
      },
      "source": [
        "plt.plot(training_results.history['val_loss'])\n",
        "plt.plot(training_results.history['loss'])\n",
        "plt.legend(['validation loss','training loss'], loc='upper right')\n",
        "plt.ylabel('loss')\n",
        "plt.xlabel('epoch')\n",
        "plt.show()"
      ],
      "execution_count": null,
      "outputs": [
        {
          "output_type": "display_data",
          "data": {
            "image/png": "[encoded data removed]",
            "text/plain": [
              "<Figure size 432x288 with 1 Axes>"
            ]
          },
          "metadata": {
            "tags": [],
            "needs_background": "light"
          }
        }
      ]
    },
    {
      "cell_type": "code",
      "metadata": {
        "colab": {
          "base_uri": "https://localhost:8080/",
          "height": 279
        },
        "id": "IQL-FzYh9XCo",
        "outputId": "221bd9a2-fa02-4bfc-9c06-08b1c90dabd8"
      },
      "source": [
        "plt.plot(training_results.history['val_accuracy'])\n",
        "plt.plot(training_results.history['accuracy'])\n",
        "plt.legend(['validation accuracy','training accuracy'], loc='lower right')\n",
        "plt.ylabel('accuracy')\n",
        "plt.xlabel('epoch')\n",
        "plt.show()"
      ],
      "execution_count": null,
      "outputs": [
        {
          "output_type": "display_data",
          "data": {
            "image/png": "[encoded data removed]",
            "text/plain": [
              "<Figure size 432x288 with 1 Axes>"
            ]
          },
          "metadata": {
            "tags": [],
            "needs_background": "light"
          }
        }
      ]
    },
    {
      "cell_type": "markdown",
      "metadata": {
        "id": "3EPr4hzVOfMI"
      },
      "source": [
        ""
      ]
    }
  ]
}