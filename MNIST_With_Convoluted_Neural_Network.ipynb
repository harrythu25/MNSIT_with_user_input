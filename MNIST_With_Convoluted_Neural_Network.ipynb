{
  "nbformat": 4,
  "nbformat_minor": 0,
  "metadata": {
    "colab": {
      "name": "MNIST With Convoluted Neural Network.ipynb",
      "provenance": [],
      "collapsed_sections": [],
      "toc_visible": true,
      "authorship_tag": "ABX9TyMqBaeogM5zh9tUYJikKHVi",
      "include_colab_link": true
    },
    "kernelspec": {
      "name": "python3",
      "display_name": "Python 3"
    },
    "language_info": {
      "name": "python"
    }
  },
  "cells": [
    {
      "cell_type": "markdown",
      "metadata": {
        "id": "view-in-github",
        "colab_type": "text"
      },
      "source": [
        "<a href=\"https://colab.research.google.com/github/harrythu25/MNSIT_with_user_input/blob/master/MNIST_With_Convoluted_Neural_Network.ipynb\" target=\"_parent\"><img src=\"https://colab.research.google.com/assets/colab-badge.svg\" alt=\"Open In Colab\"/></a>"
      ]
    },
    {
      "cell_type": "code",
      "metadata": {
        "id": "GYWsQVbOBkM7"
      },
      "source": [
        "import tensorflow as tf\n",
        "import numpy as np\n",
        "import matplotlib.pyplot as plt\n",
        "import tensorflow_datasets as tfds\n"
      ],
      "execution_count": 1,
      "outputs": []
    },
    {
      "cell_type": "markdown",
      "metadata": {
        "id": "ayR8h1WcCArh"
      },
      "source": [
        "# Load Dataset\n"
      ]
    },
    {
      "cell_type": "code",
      "metadata": {
        "id": "g1MyfRjDCCse"
      },
      "source": [
        "mnist_dataset, mnist_info = tfds.load(name='mnist', with_info=True, as_supervised=True, try_gcs=True)\n",
        "mnist_train, mnist_test = mnist_dataset['train'], mnist_dataset['test']"
      ],
      "execution_count": 55,
      "outputs": []
    },
    {
      "cell_type": "code",
      "metadata": {
        "id": "NcRbFO5QHLU1"
      },
      "source": [
        "test = [(example.numpy(), label.numpy()) for example, label in mnist_train]"
      ],
      "execution_count": 57,
      "outputs": []
    },
    {
      "cell_type": "code",
      "metadata": {
        "colab": {
          "base_uri": "https://localhost:8080/"
        },
        "id": "EaPMgNQ1Hi9b",
        "outputId": "10c06e87-51d9-4f95-a132-720008e4fa5d"
      },
      "source": [
        "import pandas as pd\n",
        "\n",
        "test=pd.DataFrame(test, columns=['example', 'label'])\n",
        "\n",
        "test['example'][0].shape"
      ],
      "execution_count": 48,
      "outputs": [
        {
          "output_type": "execute_result",
          "data": {
            "text/plain": [
              "(28, 28, 1)"
            ]
          },
          "metadata": {
            "tags": []
          },
          "execution_count": 48
        }
      ]
    },
    {
      "cell_type": "markdown",
      "metadata": {
        "id": "9IZgNEDOGPnN"
      },
      "source": [
        "# Data Pre Processing \n"
      ]
    },
    {
      "cell_type": "markdown",
      "metadata": {
        "id": "8GKLbkh8J15M"
      },
      "source": [
        "## Scale and Split Data"
      ]
    },
    {
      "cell_type": "code",
      "metadata": {
        "id": "GtNMzqJiDlR0"
      },
      "source": [
        "#preparing the data sets before splitting\n",
        "#take input and transform\n",
        "def scale (image, label):\n",
        "  image = tf.cast (image, tf.float32) #make sure it's float\n",
        "  image /= 255. #values are between 0 and 255 based on the shades; divide everything by 255 so each input is between 0 and 1  \n",
        "  return image, label\n",
        "\n",
        "\n",
        "#scale the data\n",
        "scaled_train_and_validation= mnist_train.map(scale) #use .map function to transform train data\n",
        "test_data = mnist_test.map(scale) #use .map function to transform test data\n",
        "\n",
        "\n",
        "#shuffle data so batches wont affect model\n",
        "shuffled_train_and_validation = scaled_train_and_validation.shuffle(10000)\n",
        "\n",
        "#Calculating sample sizes\n",
        "num_validation = 0.1 * mnist_info.splits['train'].num_examples #0.1 because only want 10%\n",
        "num_validation = tf.cast(num_validation_samples, tf.int64) #cast to integer\n",
        "\n",
        "num_test = mnist_info.splits['test'].num_examples\n",
        "num_test = tf.cast(num_test_samples, tf.int64) #cast to integer\n",
        "\n",
        "validation_data = shuffled_train_and_validation_data.take(num_validation)\n",
        "train_data = shuffled_train_and_validation_data.skip(num_validation)\n",
        "\n",
        "\n"
      ],
      "execution_count": 58,
      "outputs": []
    },
    {
      "cell_type": "markdown",
      "metadata": {
        "id": "R6Z6Z-zrIq0P"
      },
      "source": [
        "## Setting Batch Sizes\n",
        "\n",
        "Because I am going to use the mini batch gradient descent for my optimizing function, I need to set the batch size\n",
        "\n"
      ]
    },
    {
      "cell_type": "code",
      "metadata": {
        "id": "G40j8TE2GMTZ"
      },
      "source": [
        "#setting batch size to prepare data for model\n",
        "BATCH_SIZE = 100\n",
        "\n",
        "train_data = train_data.batch(BATCH_SIZE) #override .batch method with my size\n",
        "validation_data = validation_data.batch(num_validation_samples)  #to take in the whole data set, \n",
        "test_data = test_data.batch(num_test_samples)\n",
        "\n",
        "validation_inputs, validation_targets = next(iter(validation_data))\n",
        "\n"
      ],
      "execution_count": 59,
      "outputs": []
    },
    {
      "cell_type": "markdown",
      "metadata": {
        "id": "EefUvK4vJtrF"
      },
      "source": [
        "# Basic Artifical Neural Network"
      ]
    },
    {
      "cell_type": "markdown",
      "metadata": {
        "id": "ju_1uOfzI_Tf"
      },
      "source": [
        "## Creating Basic Artifical Neural Network"
      ]
    },
    {
      "cell_type": "code",
      "metadata": {
        "id": "TZFhVS6gI-Wu"
      },
      "source": [
        "#hyper parameters\n",
        "input_size = 784 # 28px x 28px\n",
        "output_size = 10 #0-9\n",
        "hidden_layer_size = 100 #originally 50, changed it to 100 for experimentation \n",
        "\n",
        "model_ANN = tf.keras.Sequential([                           \n",
        "                             tf.keras.layers.Flatten(input_shape = (28, 28, 1)),\n",
        "                             tf.keras.layers.Dense(hidden_layer_size, activation= 'relu'), # first hidden layer\n",
        "                             tf.keras.layers.Dense(hidden_layer_size, activation= 'relu'),  # second hidden layer\n",
        "                             tf.keras.layers.Dense(output_size, activation='softmax') #output layer softmax to transform into probability since this is a classifier model\n",
        "                            ])"
      ],
      "execution_count": 97,
      "outputs": []
    },
    {
      "cell_type": "markdown",
      "metadata": {
        "id": "DODq5jHyJ-Ni"
      },
      "source": [
        "## Choosing Optimizer and Loss Function"
      ]
    },
    {
      "cell_type": "code",
      "metadata": {
        "id": "nBD6jf24I-ID"
      },
      "source": [
        "model_ANN.compile(optimizer='adam', loss='sparse_categorical_crossentropy', metrics= ['accuracy'])"
      ],
      "execution_count": 98,
      "outputs": []
    },
    {
      "cell_type": "markdown",
      "metadata": {
        "id": "ELuyBq7lKMNQ"
      },
      "source": [
        "## Training"
      ]
    },
    {
      "cell_type": "markdown",
      "metadata": {
        "id": "2lvgE2n4LeSQ"
      },
      "source": [
        "### 5 Epochs"
      ]
    },
    {
      "cell_type": "code",
      "metadata": {
        "colab": {
          "base_uri": "https://localhost:8080/"
        },
        "id": "wmjHV0szL_4N",
        "outputId": "866eb8fd-bb03-4a70-93ce-3d518e9a8d40"
      },
      "source": [
        "NUM_EPOCHS =5\n",
        "\n",
        "training_results_10_epochs= model_ANN.fit(train_data, epochs=NUM_EPOCHS, validation_data=(validation_inputs, validation_targets), verbose =2 )"
      ],
      "execution_count": 95,
      "outputs": [
        {
          "output_type": "stream",
          "text": [
            "Epoch 1/5\n",
            "540/540 - 3s - loss: 0.3334 - accuracy: 0.9054 - val_loss: 0.1701 - val_accuracy: 0.9492\n",
            "Epoch 2/5\n",
            "540/540 - 3s - loss: 0.1347 - accuracy: 0.9594 - val_loss: 0.1175 - val_accuracy: 0.9643\n",
            "Epoch 3/5\n",
            "540/540 - 3s - loss: 0.0959 - accuracy: 0.9706 - val_loss: 0.1072 - val_accuracy: 0.9655\n",
            "Epoch 4/5\n",
            "540/540 - 3s - loss: 0.0732 - accuracy: 0.9782 - val_loss: 0.0769 - val_accuracy: 0.9772\n",
            "Epoch 5/5\n",
            "540/540 - 3s - loss: 0.0585 - accuracy: 0.9825 - val_loss: 0.0723 - val_accuracy: 0.9785\n"
          ],
          "name": "stdout"
        }
      ]
    },
    {
      "cell_type": "code",
      "metadata": {
        "colab": {
          "base_uri": "https://localhost:8080/",
          "height": 295
        },
        "id": "Nall5wx2MS-K",
        "outputId": "7a9b2b87-89b9-4461-ed3b-31a5311e6e1f"
      },
      "source": [
        "plt.title(\"ANN 5 Epochs\")\n",
        "plt.plot(training_results_5_epochs.history['val_loss'])\n",
        "plt.plot(training_results_5_epochs.history['loss'])\n",
        "plt.legend(['validation loss','training loss'], loc='upper right')\n",
        "plt.ylabel('loss')\n",
        "plt.xlabel('epoch')\n",
        "plt.show()\n"
      ],
      "execution_count": 96,
      "outputs": [
        {
          "output_type": "display_data",
          "data": {
            "image/png": "[encoded data removed]",
            "text/plain": [
              "<Figure size 432x288 with 1 Axes>"
            ]
          },
          "metadata": {
            "tags": [],
            "needs_background": "light"
          }
        }
      ]
    },
    {
      "cell_type": "markdown",
      "metadata": {
        "id": "QwNQeTWUSOAh"
      },
      "source": [
        "### 10 Epochs"
      ]
    },
    {
      "cell_type": "code",
      "metadata": {
        "colab": {
          "base_uri": "https://localhost:8080/"
        },
        "id": "p0bmy6k3Mhr8",
        "outputId": "51d28134-4482-4ee4-e1b8-6fa3167c9564"
      },
      "source": [
        "NUM_EPOCHS =10\n",
        "\n",
        "training_results_10_epochs= model_ANN.fit(train_data, epochs=NUM_EPOCHS, validation_data=(validation_inputs, validation_targets), verbose =2 )"
      ],
      "execution_count": 100,
      "outputs": [
        {
          "output_type": "stream",
          "text": [
            "Epoch 1/10\n",
            "540/540 - 4s - loss: 0.3277 - accuracy: 0.9065 - val_loss: 0.1766 - val_accuracy: 0.9477\n",
            "Epoch 2/10\n",
            "540/540 - 3s - loss: 0.1372 - accuracy: 0.9598 - val_loss: 0.1186 - val_accuracy: 0.9647\n",
            "Epoch 3/10\n",
            "540/540 - 3s - loss: 0.0960 - accuracy: 0.9711 - val_loss: 0.0968 - val_accuracy: 0.9707\n",
            "Epoch 4/10\n",
            "540/540 - 3s - loss: 0.0742 - accuracy: 0.9774 - val_loss: 0.0826 - val_accuracy: 0.9750\n",
            "Epoch 5/10\n",
            "540/540 - 3s - loss: 0.0609 - accuracy: 0.9812 - val_loss: 0.0724 - val_accuracy: 0.9787\n",
            "Epoch 6/10\n",
            "540/540 - 3s - loss: 0.0507 - accuracy: 0.9845 - val_loss: 0.0688 - val_accuracy: 0.9787\n",
            "Epoch 7/10\n",
            "540/540 - 3s - loss: 0.0423 - accuracy: 0.9868 - val_loss: 0.0544 - val_accuracy: 0.9818\n",
            "Epoch 8/10\n",
            "540/540 - 3s - loss: 0.0341 - accuracy: 0.9895 - val_loss: 0.0434 - val_accuracy: 0.9857\n",
            "Epoch 9/10\n",
            "540/540 - 3s - loss: 0.0312 - accuracy: 0.9900 - val_loss: 0.0367 - val_accuracy: 0.9868\n",
            "Epoch 10/10\n",
            "540/540 - 3s - loss: 0.0237 - accuracy: 0.9925 - val_loss: 0.0375 - val_accuracy: 0.9872\n"
          ],
          "name": "stdout"
        }
      ]
    },
    {
      "cell_type": "code",
      "metadata": {
        "colab": {
          "base_uri": "https://localhost:8080/",
          "height": 295
        },
        "id": "9b-mxD2BMxY_",
        "outputId": "5e1cbf53-03ba-43e9-b3a0-a49c817b3ea2"
      },
      "source": [
        "plt.title(\"ANN 10 Epochs\")\n",
        "plt.plot(training_results_10_epochs.history['val_loss'])\n",
        "plt.plot(training_results_10_epochs.history['loss'])\n",
        "plt.legend(['validation loss','training loss'], loc='upper right')\n",
        "plt.ylabel('loss')\n",
        "plt.xlabel('epoch')\n",
        "plt.show()\n"
      ],
      "execution_count": 102,
      "outputs": [
        {
          "output_type": "display_data",
          "data": {
            "image/png": "[encoded data removed]",
            "text/plain": [
              "<Figure size 432x288 with 1 Axes>"
            ]
          },
          "metadata": {
            "tags": [],
            "needs_background": "light"
          }
        }
      ]
    },
    {
      "cell_type": "markdown",
      "metadata": {
        "id": "YiG9OVnkLCrL"
      },
      "source": [
        "## Testing"
      ]
    },
    {
      "cell_type": "code",
      "metadata": {
        "colab": {
          "base_uri": "https://localhost:8080/"
        },
        "id": "LlvJxZIoK9bT",
        "outputId": "359c954a-3a43-44f1-9f78-31602396dfb5"
      },
      "source": [
        "ANN_loss, ANN_accuracy = model_ANN.evaluate(test_data)"
      ],
      "execution_count": 90,
      "outputs": [
        {
          "output_type": "stream",
          "text": [
            "1/1 [==============================] - 0s 330ms/step - loss: 0.0750 - accuracy: 0.9783\n"
          ],
          "name": "stdout"
        }
      ]
    },
    {
      "cell_type": "markdown",
      "metadata": {
        "id": "SZY6iiWsQzX0"
      },
      "source": [
        "# Convolutional Neural Network"
      ]
    },
    {
      "cell_type": "markdown",
      "metadata": {
        "id": "UcGX_edmQ-gZ"
      },
      "source": [
        "## Creating Convolutional Neural Network"
      ]
    },
    {
      "cell_type": "code",
      "metadata": {
        "id": "qFgyEkQtQ9dK"
      },
      "source": [
        "#hyper parameters\n",
        "input_size = 784 # 28px x 28px\n",
        "output_size = 10 #0-9\n",
        "hidden_layer_size = 100\n",
        "\n",
        "model_CNN = tf.keras.Sequential([\n",
        "                            tf.keras.layers.Conv2D(28, kernel_size=(3,3), input_shape=(28, 28, 1)),\n",
        "                            tf.keras.layers.MaxPooling2D(pool_size=(2,2)),   \n",
        "                              tf.keras.layers.Conv2D(28, kernel_size=(3,3), input_shape=(28, 28, 1)),\n",
        "                            tf.keras.layers.MaxPooling2D(pool_size=(2,2)),                          \n",
        "                             tf.keras.layers.Flatten(input_shape = (28, 28, 1)),\n",
        "                             tf.keras.layers.Dense(hidden_layer_size, activation= 'relu'), # first hidden layer\n",
        "                             tf.keras.layers.Dense(hidden_layer_size, activation= 'relu'),  # second hidden layer\n",
        "                             tf.keras.layers.Dense(output_size, activation='softmax') #output layer softmax to transform into probability since this is a classifier model\n",
        "                            ])"
      ],
      "execution_count": 125,
      "outputs": []
    },
    {
      "cell_type": "markdown",
      "metadata": {
        "id": "nA2tducdSaO9"
      },
      "source": [
        "## Choosing Optimizer and Loss Function"
      ]
    },
    {
      "cell_type": "code",
      "metadata": {
        "id": "_39N5xioLK9K"
      },
      "source": [
        "model_CNN.compile(optimizer='adam', loss='sparse_categorical_crossentropy', metrics= ['accuracy'])"
      ],
      "execution_count": 126,
      "outputs": []
    },
    {
      "cell_type": "markdown",
      "metadata": {
        "id": "mQsyTrr8SeE7"
      },
      "source": [
        "## Training"
      ]
    },
    {
      "cell_type": "markdown",
      "metadata": {
        "id": "ghtRU17ESfxk"
      },
      "source": [
        "### 5 Epochs"
      ]
    },
    {
      "cell_type": "code",
      "metadata": {
        "colab": {
          "base_uri": "https://localhost:8080/"
        },
        "id": "1PYFDFoZSKTb",
        "outputId": "2652657f-e471-4617-bbc2-fd7eb66f851c"
      },
      "source": [
        "NUM_EPOCHS =5\n",
        "\n",
        "training_results_5_epochs= model_CNN.fit(train_data, epochs=NUM_EPOCHS, validation_data=(validation_inputs, validation_targets), verbose =2 )"
      ],
      "execution_count": 122,
      "outputs": [
        {
          "output_type": "stream",
          "text": [
            "Epoch 1/5\n",
            "540/540 - 28s - loss: 0.2647 - accuracy: 0.9202 - val_loss: 0.0974 - val_accuracy: 0.9710\n",
            "Epoch 2/5\n",
            "540/540 - 28s - loss: 0.0738 - accuracy: 0.9775 - val_loss: 0.0706 - val_accuracy: 0.9783\n",
            "Epoch 3/5\n",
            "540/540 - 27s - loss: 0.0486 - accuracy: 0.9845 - val_loss: 0.0470 - val_accuracy: 0.9858\n",
            "Epoch 4/5\n",
            "540/540 - 26s - loss: 0.0372 - accuracy: 0.9883 - val_loss: 0.0443 - val_accuracy: 0.9870\n",
            "Epoch 5/5\n",
            "540/540 - 29s - loss: 0.0301 - accuracy: 0.9904 - val_loss: 0.0381 - val_accuracy: 0.9875\n"
          ],
          "name": "stdout"
        }
      ]
    },
    {
      "cell_type": "code",
      "metadata": {
        "colab": {
          "base_uri": "https://localhost:8080/",
          "height": 295
        },
        "id": "0yjnjQ_uSXGo",
        "outputId": "64612dae-6fa7-49b7-c6c1-8c82d7300f30"
      },
      "source": [
        "plt.title(\"CNN 5 Epochs\")\n",
        "plt.plot(training_results_5_epochs.history['val_loss'])\n",
        "plt.plot(training_results_5_epochs.history['loss'])\n",
        "plt.legend(['validation loss','training loss'], loc='upper right')\n",
        "plt.ylabel('loss')\n",
        "plt.xlabel('epoch')\n",
        "plt.show()"
      ],
      "execution_count": 123,
      "outputs": [
        {
          "output_type": "display_data",
          "data": {
            "image/png": "[encoded data removed]",
            "text/plain": [
              "<Figure size 432x288 with 1 Axes>"
            ]
          },
          "metadata": {
            "tags": [],
            "needs_background": "light"
          }
        }
      ]
    },
    {
      "cell_type": "markdown",
      "metadata": {
        "id": "ZPGykbGTTkS3"
      },
      "source": [
        "### 10 Epochs\n"
      ]
    },
    {
      "cell_type": "code",
      "metadata": {
        "colab": {
          "base_uri": "https://localhost:8080/"
        },
        "id": "W713_vr7TSrC",
        "outputId": "7154dfe6-542f-4921-9b3e-12da603ae8a0"
      },
      "source": [
        "NUM_EPOCHS =10\n",
        "\n",
        "training_results_5_epochs= model_CNN.fit(train_data, epochs=NUM_EPOCHS, validation_data=(validation_inputs, validation_targets), verbose =2 )"
      ],
      "execution_count": 127,
      "outputs": [
        {
          "output_type": "stream",
          "text": [
            "Epoch 1/10\n",
            "540/540 - 30s - loss: 0.2464 - accuracy: 0.9283 - val_loss: 0.1026 - val_accuracy: 0.9678\n",
            "Epoch 2/10\n",
            "540/540 - 30s - loss: 0.0677 - accuracy: 0.9793 - val_loss: 0.0580 - val_accuracy: 0.9822\n",
            "Epoch 3/10\n",
            "540/540 - 30s - loss: 0.0453 - accuracy: 0.9860 - val_loss: 0.0492 - val_accuracy: 0.9850\n",
            "Epoch 4/10\n",
            "540/540 - 31s - loss: 0.0352 - accuracy: 0.9887 - val_loss: 0.0404 - val_accuracy: 0.9872\n",
            "Epoch 5/10\n",
            "540/540 - 32s - loss: 0.0271 - accuracy: 0.9910 - val_loss: 0.0454 - val_accuracy: 0.9855\n",
            "Epoch 6/10\n",
            "540/540 - 30s - loss: 0.0224 - accuracy: 0.9925 - val_loss: 0.0330 - val_accuracy: 0.9893\n",
            "Epoch 7/10\n",
            "540/540 - 31s - loss: 0.0193 - accuracy: 0.9938 - val_loss: 0.0288 - val_accuracy: 0.9915\n",
            "Epoch 8/10\n",
            "540/540 - 31s - loss: 0.0178 - accuracy: 0.9944 - val_loss: 0.0289 - val_accuracy: 0.9922\n",
            "Epoch 9/10\n",
            "540/540 - 31s - loss: 0.0146 - accuracy: 0.9953 - val_loss: 0.0283 - val_accuracy: 0.9938\n",
            "Epoch 10/10\n",
            "540/540 - 30s - loss: 0.0131 - accuracy: 0.9957 - val_loss: 0.0221 - val_accuracy: 0.9935\n"
          ],
          "name": "stdout"
        }
      ]
    },
    {
      "cell_type": "code",
      "metadata": {
        "colab": {
          "base_uri": "https://localhost:8080/",
          "height": 295
        },
        "id": "Z6WMJiA9To7V",
        "outputId": "dc95b4e2-40f9-446b-9113-4b14a5a22ec0"
      },
      "source": [
        "plt.title(\"CNN 10 Epochs\")\n",
        "plt.plot(training_results_5_epochs.history['val_loss'])\n",
        "plt.plot(training_results_5_epochs.history['loss'])\n",
        "plt.legend(['validation loss','training loss'], loc='upper right')\n",
        "plt.ylabel('loss')\n",
        "plt.xlabel('epoch')\n",
        "plt.show()"
      ],
      "execution_count": 128,
      "outputs": [
        {
          "output_type": "display_data",
          "data": {
            "image/png": "[encoded data removed]",
            "text/plain": [
              "<Figure size 432x288 with 1 Axes>"
            ]
          },
          "metadata": {
            "tags": [],
            "needs_background": "light"
          }
        }
      ]
    },
    {
      "cell_type": "markdown",
      "metadata": {
        "id": "ItVBL-rZVa1G"
      },
      "source": [
        "## Testing"
      ]
    },
    {
      "cell_type": "code",
      "metadata": {
        "colab": {
          "base_uri": "https://localhost:8080/"
        },
        "id": "jPtnWujwVQLY",
        "outputId": "6702438c-0c29-40d7-8538-b848c3d46736"
      },
      "source": [
        "CNN_loss, CNN_accuracy = model_CNN.evaluate(test_data)"
      ],
      "execution_count": 124,
      "outputs": [
        {
          "output_type": "stream",
          "text": [
            "1/1 [==============================] - 2s 2s/step - loss: 0.0339 - accuracy: 0.9894\n"
          ],
          "name": "stdout"
        }
      ]
    },
    {
      "cell_type": "code",
      "metadata": {
        "colab": {
          "base_uri": "https://localhost:8080/"
        },
        "id": "VpRV84MFVf9U",
        "outputId": "67e36503-b163-435c-eca7-1c2cd45b93a0"
      },
      "source": [
        "CNN_loss, CNN_accuracy = model_CNN.evaluate(test_data)"
      ],
      "execution_count": 129,
      "outputs": [
        {
          "output_type": "stream",
          "text": [
            "1/1 [==============================] - 2s 2s/step - loss: 0.0435 - accuracy: 0.9889\n"
          ],
          "name": "stdout"
        }
      ]
    },
    {
      "cell_type": "markdown",
      "metadata": {
        "id": "UY-dN2vxb9I5"
      },
      "source": [
        "Model that was trained on 10 epochs is slightly overfitting because the one trained on 5 epoch performed better with the test data. "
      ]
    },
    {
      "cell_type": "markdown",
      "metadata": {
        "id": "MyZSqVRicF0s"
      },
      "source": [
        "## Final Model"
      ]
    },
    {
      "cell_type": "code",
      "metadata": {
        "colab": {
          "base_uri": "https://localhost:8080/"
        },
        "id": "rCzHWSLOcELY",
        "outputId": "2499c4c9-0170-4f0d-854c-affc742a19f3"
      },
      "source": [
        "#hyper parameters\n",
        "input_size = 784 # 28px x 28px\n",
        "output_size = 10 #0-9\n",
        "hidden_layer_size = 100\n",
        "\n",
        "model_CNN = tf.keras.Sequential([\n",
        "                            tf.keras.layers.Conv2D(28, kernel_size=(3,3), input_shape=(28, 28, 1)),\n",
        "                            tf.keras.layers.MaxPooling2D(pool_size=(2,2)),   \n",
        "                              tf.keras.layers.Conv2D(28, kernel_size=(3,3), input_shape=(28, 28, 1)),\n",
        "                            tf.keras.layers.MaxPooling2D(pool_size=(2,2)),       \n",
        "                            tf.keras.layers.Dropout(0.2),\n",
        "                             tf.keras.layers.Flatten(),\n",
        "                             tf.keras.layers.Dense(hidden_layer_size, activation= 'relu'), # first hidden layer\n",
        "                             tf.keras.layers.Dropout(0.2),\n",
        "                             tf.keras.layers.Dense(hidden_layer_size, activation= 'relu'),  # second hidden layer\n",
        "                             tf.keras.layers.Dropout(0.2),\n",
        "                             tf.keras.layers.Dense(output_size, activation='softmax') #output layer softmax to transform into probability since this is a classifier model\n",
        "                            ])\n",
        "model_CNN.compile(optimizer='adam', loss='sparse_categorical_crossentropy', metrics= ['accuracy'])\n",
        "\n",
        "NUM_EPOCHS =10\n",
        "\n",
        "training_results_10_epochs_3dropout= model_CNN.fit(train_data, epochs=NUM_EPOCHS, validation_data=(validation_inputs, validation_targets), verbose =2 )"
      ],
      "execution_count": 139,
      "outputs": [
        {
          "output_type": "stream",
          "text": [
            "Epoch 1/10\n",
            "540/540 - 50s - loss: 0.3546 - accuracy: 0.8887 - val_loss: 0.0902 - val_accuracy: 0.9715\n",
            "Epoch 2/10\n",
            "540/540 - 49s - loss: 0.1150 - accuracy: 0.9654 - val_loss: 0.0658 - val_accuracy: 0.9792\n",
            "Epoch 3/10\n",
            "540/540 - 47s - loss: 0.0819 - accuracy: 0.9752 - val_loss: 0.0440 - val_accuracy: 0.9868\n",
            "Epoch 4/10\n",
            "540/540 - 45s - loss: 0.0673 - accuracy: 0.9794 - val_loss: 0.0429 - val_accuracy: 0.9865\n",
            "Epoch 5/10\n",
            "540/540 - 46s - loss: 0.0586 - accuracy: 0.9826 - val_loss: 0.0340 - val_accuracy: 0.9902\n",
            "Epoch 6/10\n",
            "540/540 - 45s - loss: 0.0531 - accuracy: 0.9841 - val_loss: 0.0321 - val_accuracy: 0.9903\n",
            "Epoch 7/10\n",
            "540/540 - 47s - loss: 0.0474 - accuracy: 0.9854 - val_loss: 0.0267 - val_accuracy: 0.9915\n",
            "Epoch 8/10\n",
            "540/540 - 46s - loss: 0.0448 - accuracy: 0.9861 - val_loss: 0.0287 - val_accuracy: 0.9910\n",
            "Epoch 9/10\n",
            "540/540 - 47s - loss: 0.0412 - accuracy: 0.9874 - val_loss: 0.0248 - val_accuracy: 0.9925\n",
            "Epoch 10/10\n",
            "540/540 - 45s - loss: 0.0376 - accuracy: 0.9887 - val_loss: 0.0230 - val_accuracy: 0.9932\n"
          ],
          "name": "stdout"
        }
      ]
    },
    {
      "cell_type": "code",
      "metadata": {
        "colab": {
          "base_uri": "https://localhost:8080/",
          "height": 295
        },
        "id": "fLpUV-W7cd-M",
        "outputId": "fb0d5793-557f-4359-fffa-298e19b35dcc"
      },
      "source": [
        "plt.title(\"CNN 10 Epochs\")\n",
        "plt.plot(training_results_10_epochs_3dropout.history['val_loss'])\n",
        "plt.plot(training_results_10_epochs_3dropout.history['loss'])\n",
        "plt.legend(['validation loss','training loss'], loc='upper right')\n",
        "plt.ylabel('loss')\n",
        "plt.xlabel('epoch')\n",
        "plt.show()"
      ],
      "execution_count": 140,
      "outputs": [
        {
          "output_type": "display_data",
          "data": {
            "image/png": "[encoded data removed]",
            "text/plain": [
              "<Figure size 432x288 with 1 Axes>"
            ]
          },
          "metadata": {
            "tags": [],
            "needs_background": "light"
          }
        }
      ]
    },
    {
      "cell_type": "code",
      "metadata": {
        "colab": {
          "base_uri": "https://localhost:8080/",
          "height": 295
        },
        "id": "MAm2qwcMf0b0",
        "outputId": "de5fa12e-10be-484a-959d-b804b168abb8"
      },
      "source": [
        "plt.title(\"CNN 10 Epochs\")\n",
        "plt.plot(training_results_10_epochs_3dropout.history['val_accuracy'])\n",
        "plt.plot(training_results_10_epochs_3dropout.history['accuracy'])\n",
        "plt.legend(['validation loss','training loss'], loc='upper right')\n",
        "plt.ylabel('loss')\n",
        "plt.xlabel('epoch')\n",
        "plt.show()"
      ],
      "execution_count": 141,
      "outputs": [
        {
          "output_type": "display_data",
          "data": {
            "image/png": "[encoded data removed]",
            "text/plain": [
              "<Figure size 432x288 with 1 Axes>"
            ]
          },
          "metadata": {
            "tags": [],
            "needs_background": "light"
          }
        }
      ]
    },
    {
      "cell_type": "code",
      "metadata": {
        "colab": {
          "base_uri": "https://localhost:8080/"
        },
        "id": "SRbPKNSGfn08",
        "outputId": "1ebb5c1c-4396-4371-9403-b60e8cc0a9f3"
      },
      "source": [
        "CNN_loss, CNN_accuracy = model_CNN.evaluate(test_data)"
      ],
      "execution_count": 142,
      "outputs": [
        {
          "output_type": "stream",
          "text": [
            "1/1 [==============================] - 2s 2s/step - loss: 0.0284 - accuracy: 0.9914\n"
          ],
          "name": "stdout"
        }
      ]
    },
    {
      "cell_type": "code",
      "metadata": {
        "id": "KhHi6wRtfsAk"
      },
      "source": [
        ""
      ],
      "execution_count": null,
      "outputs": []
    }
  ]
}